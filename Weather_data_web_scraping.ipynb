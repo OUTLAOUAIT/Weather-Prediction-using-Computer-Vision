{
  "nbformat": 4,
  "nbformat_minor": 0,
  "metadata": {
    "colab": {
      "provenance": [],
      "collapsed_sections": []
    },
    "kernelspec": {
      "name": "python3",
      "display_name": "Python 3"
    },
    "language_info": {
      "name": "python"
    }
  },
  "cells": [
    {
      "cell_type": "code",
      "execution_count": null,
      "metadata": {
        "id": "KVUwa8RFvY7t"
      },
      "outputs": [],
      "source": [
        "import pafy\n",
        "import cv2\n",
        "from PIL import Image\n",
        "import time\n",
        "import datetime\n",
        "import requests\n",
        "import json\n",
        "\n",
        "api_key = \"YOUR API KEY HERE\"\n",
        "\n",
        "# Rainbow Bridge Coordinates\n",
        "lat = \"35.633667\"\n",
        "lon = \"139.766504\"\n",
        "\n",
        "url_weather = f\"http://api.openweathermap.org/data/2.5/weather?lat={lat}&lon={lon}&appid={api_key}&units=metric\"\n",
        "\n",
        "x = True\n",
        "count = 1\n",
        "\n",
        "while x:\n",
        "    try:\n",
        "        ## get youtube image\n",
        "        now = datetime.datetime.now().strftime('%Y-%m-%d-%H-%M-%S')\n",
        "        # Link for the Youtube Rainbow Bridge Live Stream\n",
        "        url_image = \"https://www.youtube.com/watch?v=n3B8fp-Henc&ab_channel=FineScape\"\n",
        "        video = pafy.new(url_image,ydl_opts={'nocheckcertificate': True})\n",
        "        best = video.getbest(preftype=\"mp4\")\n",
        "        capture = cv2.VideoCapture(best.url)\n",
        "        grabbed, frame = capture.read()\n",
        "        color_coverted = cv2.cvtColor(frame, cv2.COLOR_BGR2RGB)\n",
        "        pil_image=Image.fromarray(color_coverted)\n",
        "        pil_image.save(f\"./images/{now}.png\")\n",
        "\n",
        "        ## get weather info\n",
        "        response = requests.get(url_weather)\n",
        "        data = json.loads(response.text)\n",
        "        with open(f'./data/{now}.json', 'w') as f:\n",
        "            json.dump(data, f)\n",
        "\n",
        "        print(count, now)\n",
        "    except Exception as e:\n",
        "        print(count, e)  \n",
        "    \n",
        "    count +=1      \n",
        "    time.sleep(50)\n"
      ]
    }
  ]
}